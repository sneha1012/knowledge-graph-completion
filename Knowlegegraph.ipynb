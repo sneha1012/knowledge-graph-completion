{
  "nbformat": 4,
  "nbformat_minor": 0,
  "metadata": {
    "colab": {
      "provenance": [],
      "authorship_tag": "ABX9TyMzUwvSq5DNhinEmuXNmU2j",
      "include_colab_link": true
    },
    "kernelspec": {
      "name": "python3",
      "display_name": "Python 3"
    },
    "language_info": {
      "name": "python"
    }
  },
  "cells": [
    {
      "cell_type": "markdown",
      "metadata": {
        "id": "view-in-github",
        "colab_type": "text"
      },
      "source": [
        "<a href=\"https://colab.research.google.com/github/sneha1012/knowledge-graph-completion/blob/main/Knowlegegraph.ipynb\" target=\"_parent\"><img src=\"https://colab.research.google.com/assets/colab-badge.svg\" alt=\"Open In Colab\"/></a>"
      ]
    },
    {
      "cell_type": "code",
      "source": [
        "from google.colab import drive\n",
        "drive.mount('/content/drive')\n"
      ],
      "metadata": {
        "colab": {
          "base_uri": "https://localhost:8080/"
        },
        "id": "-zQoKFU2effU",
        "outputId": "3b65736b-c8d5-497b-8f26-c32b496f70e6"
      },
      "execution_count": 14,
      "outputs": [
        {
          "output_type": "stream",
          "name": "stdout",
          "text": [
            "Drive already mounted at /content/drive; to attempt to forcibly remount, call drive.mount(\"/content/drive\", force_remount=True).\n"
          ]
        }
      ]
    },
    {
      "cell_type": "code",
      "source": [
        "%cd /content/drive/My Drive/Data for GATS\n"
      ],
      "metadata": {
        "colab": {
          "base_uri": "https://localhost:8080/"
        },
        "id": "vMN7u8MIeijs",
        "outputId": "4915522b-daff-4b59-8d78-9ef8e906f129"
      },
      "execution_count": 15,
      "outputs": [
        {
          "output_type": "stream",
          "name": "stdout",
          "text": [
            "/content/drive/My Drive/Data for GATS\n"
          ]
        }
      ]
    },
    {
      "cell_type": "code",
      "source": [
        "!ls\n"
      ],
      "metadata": {
        "colab": {
          "base_uri": "https://localhost:8080/"
        },
        "id": "zYWh8ZoQelP3",
        "outputId": "ff3be977-fcd0-4d92-c858-28c27a355820"
      },
      "execution_count": 16,
      "outputs": [
        {
          "output_type": "stream",
          "name": "stdout",
          "text": [
            "'MSR-LA_Data_Full Rights_FB15K-237 Knowledge Base Completion Dataset (2650).docx'\n",
            " README.txt\n",
            " test.txt\n",
            " text_cvsc.txt\n",
            " text_emnlp.txt\n",
            " train.txt\n",
            " valid.txt\n"
          ]
        }
      ]
    },
    {
      "cell_type": "code",
      "source": [
        "!git clone https://github.com/gordicaleksa/pytorch-GAT.git\n",
        "%cd pytorch-GAT\n",
        "!rm -rf .git\n"
      ],
      "metadata": {
        "colab": {
          "base_uri": "https://localhost:8080/"
        },
        "id": "_G5XXTOrep1-",
        "outputId": "824b33eb-f482-4298-ca76-ca0d4225372c"
      },
      "execution_count": 18,
      "outputs": [
        {
          "output_type": "stream",
          "name": "stdout",
          "text": [
            "Cloning into 'pytorch-GAT'...\n",
            "remote: Enumerating objects: 634, done.\u001b[K\n",
            "remote: Counting objects: 100% (144/144), done.\u001b[K\n",
            "remote: Compressing objects: 100% (16/16), done.\u001b[K\n",
            "remote: Total 634 (delta 135), reused 128 (delta 128), pack-reused 490\u001b[K\n",
            "Receiving objects: 100% (634/634), 24.23 MiB | 11.10 MiB/s, done.\n",
            "Resolving deltas: 100% (345/345), done.\n",
            "/content/drive/My Drive/Data for GATS/pytorch-GAT/pytorch-GAT\n"
          ]
        }
      ]
    },
    {
      "cell_type": "markdown",
      "source": [
        "converting Entities and relations to unique integers"
      ],
      "metadata": {
        "id": "T7DOxsPhe8rF"
      }
    },
    {
      "cell_type": "code",
      "source": [
        "import numpy as np\n",
        "\n",
        "files = ['train.txt', 'valid.txt', 'test.txt']\n",
        "\n",
        "entity2id = {}\n",
        "relation2id = {}\n",
        "triples = []\n",
        "\n",
        "for file in files:\n",
        "    with open(file, 'r') as f:\n",
        "        for line in f:\n",
        "            s, p, o = line.strip().split('\\t')\n",
        "            if s not in entity2id:\n",
        "                entity2id[s] = len(entity2id)\n",
        "            if o not in entity2id:\n",
        "                entity2id[o] = len(entity2id)\n",
        "            if p not in relation2id:\n",
        "                relation2id[p] = len(relation2id)\n",
        "            triples.append((entity2id[s], relation2id[p], entity2id[o]))\n"
      ],
      "metadata": {
        "colab": {
          "base_uri": "https://localhost:8080/",
          "height": 242
        },
        "id": "sKF5CckyfFgP",
        "outputId": "ef9fb555-e52c-4d6b-f73f-e4cc93e8f065"
      },
      "execution_count": 20,
      "outputs": [
        {
          "output_type": "error",
          "ename": "FileNotFoundError",
          "evalue": "ignored",
          "traceback": [
            "\u001b[0;31m---------------------------------------------------------------------------\u001b[0m",
            "\u001b[0;31mFileNotFoundError\u001b[0m                         Traceback (most recent call last)",
            "\u001b[0;32m<ipython-input-20-df4c9dc9982e>\u001b[0m in \u001b[0;36m<cell line: 9>\u001b[0;34m()\u001b[0m\n\u001b[1;32m      8\u001b[0m \u001b[0;34m\u001b[0m\u001b[0m\n\u001b[1;32m      9\u001b[0m \u001b[0;32mfor\u001b[0m \u001b[0mfile\u001b[0m \u001b[0;32min\u001b[0m \u001b[0mfiles\u001b[0m\u001b[0;34m:\u001b[0m\u001b[0;34m\u001b[0m\u001b[0;34m\u001b[0m\u001b[0m\n\u001b[0;32m---> 10\u001b[0;31m     \u001b[0;32mwith\u001b[0m \u001b[0mopen\u001b[0m\u001b[0;34m(\u001b[0m\u001b[0mfile\u001b[0m\u001b[0;34m,\u001b[0m \u001b[0;34m'r'\u001b[0m\u001b[0;34m)\u001b[0m \u001b[0;32mas\u001b[0m \u001b[0mf\u001b[0m\u001b[0;34m:\u001b[0m\u001b[0;34m\u001b[0m\u001b[0;34m\u001b[0m\u001b[0m\n\u001b[0m\u001b[1;32m     11\u001b[0m         \u001b[0;32mfor\u001b[0m \u001b[0mline\u001b[0m \u001b[0;32min\u001b[0m \u001b[0mf\u001b[0m\u001b[0;34m:\u001b[0m\u001b[0;34m\u001b[0m\u001b[0;34m\u001b[0m\u001b[0m\n\u001b[1;32m     12\u001b[0m             \u001b[0ms\u001b[0m\u001b[0;34m,\u001b[0m \u001b[0mp\u001b[0m\u001b[0;34m,\u001b[0m \u001b[0mo\u001b[0m \u001b[0;34m=\u001b[0m \u001b[0mline\u001b[0m\u001b[0;34m.\u001b[0m\u001b[0mstrip\u001b[0m\u001b[0;34m(\u001b[0m\u001b[0;34m)\u001b[0m\u001b[0;34m.\u001b[0m\u001b[0msplit\u001b[0m\u001b[0;34m(\u001b[0m\u001b[0;34m'\\t'\u001b[0m\u001b[0;34m)\u001b[0m\u001b[0;34m\u001b[0m\u001b[0;34m\u001b[0m\u001b[0m\n",
            "\u001b[0;31mFileNotFoundError\u001b[0m: [Errno 2] No such file or directory: 'train.txt'"
          ]
        }
      ]
    },
    {
      "cell_type": "code",
      "source": [
        "!pwd\n"
      ],
      "metadata": {
        "colab": {
          "base_uri": "https://localhost:8080/"
        },
        "id": "UCgHrvUpfZSR",
        "outputId": "d0321b1b-fee8-479b-a082-0db2c45346aa"
      },
      "execution_count": 21,
      "outputs": [
        {
          "output_type": "stream",
          "name": "stdout",
          "text": [
            "/content/drive/MyDrive/Data for GATS/pytorch-GAT/pytorch-GAT\n"
          ]
        }
      ]
    },
    {
      "cell_type": "code",
      "source": [
        "!ls\n"
      ],
      "metadata": {
        "colab": {
          "base_uri": "https://localhost:8080/"
        },
        "id": "Rsg7x0nHfcHd",
        "outputId": "f289a1cb-47a0-48da-e51a-86814f8a8b4d"
      },
      "execution_count": 22,
      "outputs": [
        {
          "output_type": "stream",
          "name": "stdout",
          "text": [
            " data\t\t   playground.py\t\t     training_script_cora.py\n",
            " environment.yml   README.md\t\t\t     training_script_ppi.py\n",
            " LICENCE\t  'The Annotated GAT (Cora).ipynb'   utils\n",
            " models\t\t  'The Annotated GAT (PPI).ipynb'\n"
          ]
        }
      ]
    },
    {
      "cell_type": "code",
      "source": [
        "%cd /content/drive/My Drive\n",
        "!find . -name \"train.txt\"\n"
      ],
      "metadata": {
        "colab": {
          "base_uri": "https://localhost:8080/"
        },
        "id": "pmSAnFRvgMzd",
        "outputId": "f0033bd7-c97f-4227-8781-7a1731527cec"
      },
      "execution_count": 23,
      "outputs": [
        {
          "output_type": "stream",
          "name": "stdout",
          "text": [
            "/content/drive/My Drive\n",
            "./Data for GATS/train.txt\n"
          ]
        }
      ]
    },
    {
      "cell_type": "code",
      "source": [
        "%cd /content/drive/My Drive/Data for GATS/\n"
      ],
      "metadata": {
        "colab": {
          "base_uri": "https://localhost:8080/"
        },
        "id": "oDx2mwhCgPGZ",
        "outputId": "8462a719-42ca-47db-961b-5136bfbf7808"
      },
      "execution_count": 24,
      "outputs": [
        {
          "output_type": "stream",
          "name": "stdout",
          "text": [
            "/content/drive/My Drive/Data for GATS\n"
          ]
        }
      ]
    },
    {
      "cell_type": "code",
      "source": [
        "!ls\n"
      ],
      "metadata": {
        "colab": {
          "base_uri": "https://localhost:8080/"
        },
        "id": "A6DDBwIIiG41",
        "outputId": "2aed6f32-b947-4856-a9bc-bcbd6b556bba"
      },
      "execution_count": 25,
      "outputs": [
        {
          "output_type": "stream",
          "name": "stdout",
          "text": [
            "'MSR-LA_Data_Full Rights_FB15K-237 Knowledge Base Completion Dataset (2650).docx'\n",
            " pytorch-GAT\n",
            " README.txt\n",
            " test.txt\n",
            " text_cvsc.txt\n",
            " text_emnlp.txt\n",
            " train.txt\n",
            " valid.txt\n"
          ]
        }
      ]
    },
    {
      "cell_type": "code",
      "source": [
        "file_path = '/content/drive/My Drive/Data for GATS/train.txt'\n",
        "\n",
        "\n"
      ],
      "metadata": {
        "id": "UZTdkh9alLa0"
      },
      "execution_count": 28,
      "outputs": []
    },
    {
      "cell_type": "code",
      "source": [
        "import numpy as np\n",
        "\n",
        "# Dictionaries to map entities and relations to unique integer IDs\n",
        "entity2id = {}\n",
        "relation2id = {}\n",
        "\n",
        "# Lists to store triples\n",
        "triples = []\n",
        "\n",
        "# Read the file and process the data\n",
        "with open(file_path, 'r') as f:\n",
        "    for line in f:\n",
        "        s, p, o = line.strip().split('\\t')\n",
        "\n",
        "        # Assign unique IDs to entities and relations\n",
        "        if s not in entity2id:\n",
        "            entity2id[s] = len(entity2id)\n",
        "        if o not in entity2id:\n",
        "            entity2id[o] = len(entity2id)\n",
        "        if p not in relation2id:\n",
        "            relation2id[p] = len(relation2id)\n",
        "\n",
        "        # Store the triples\n",
        "        triples.append((entity2id[s], relation2id[p], entity2id[o]))\n",
        "\n",
        "# Generate initial random embeddings for entities\n",
        "embedding_dim = 16  # Dimension of the embeddings\n",
        "num_entities = len(entity2id)\n",
        "initial_entity_embeddings = np.random.rand(num_entities, embedding_dim)\n",
        "\n",
        "print(f\"Number of unique entities: {num_entities}\")\n",
        "print(f\"Number of unique relations: {len(relation2id)}\")\n",
        "print(f\"Number of triples: {len(triples)}\")\n",
        "print(f\"Sample initial embedding for the first entity: {initial_entity_embeddings[0]}\")\n"
      ],
      "metadata": {
        "colab": {
          "base_uri": "https://localhost:8080/"
        },
        "id": "zLhLhTNWmBos",
        "outputId": "d8a6d99a-fafc-470a-9083-dbfd6397e969"
      },
      "execution_count": 29,
      "outputs": [
        {
          "output_type": "stream",
          "name": "stdout",
          "text": [
            "Number of unique entities: 14505\n",
            "Number of unique relations: 237\n",
            "Number of triples: 272115\n",
            "Sample initial embedding for the first entity: [0.29575273 0.49685077 0.14133008 0.18971445 0.01729154 0.8183854\n",
            " 0.87481075 0.45563967 0.03511331 0.70896097 0.1443778  0.13706243\n",
            " 0.33433446 0.9093752  0.17920775 0.46051634]\n"
          ]
        }
      ]
    },
    {
      "cell_type": "code",
      "source": [
        "import torch.nn as nn\n",
        "\n",
        "class GATLayer(nn.Module):\n",
        "    def __init__(self, in_features, out_features):\n",
        "        super(GATLayer, self).__init__()\n",
        "        self.fc = nn.Linear(in_features, out_features)\n",
        "\n",
        "    def forward(self, x):\n",
        "        return self.fc(x)\n",
        "\n",
        "class GAT(nn.Module):\n",
        "    def __init__(self, in_features, out_features):\n",
        "        super(GAT, self).__init__()\n",
        "        self.layer1 = GATLayer(in_features, out_features)\n",
        "\n",
        "    def forward(self, x):\n",
        "        return self.layer1(x)\n",
        "\n",
        "model = GAT(embedding_dim, embedding_dim)\n"
      ],
      "metadata": {
        "id": "dpop2-nNmfh7"
      },
      "execution_count": 30,
      "outputs": []
    },
    {
      "cell_type": "markdown",
      "source": [
        "Training the GAT Model on FB15k-237"
      ],
      "metadata": {
        "id": "QHduBg4qmylh"
      }
    },
    {
      "cell_type": "code",
      "source": [
        "import torch.optim as optim\n",
        "\n",
        "learning_rate = 0.01\n",
        "epochs = 10\n",
        "\n",
        "optimizer = optim.Adam(model.parameters(), lr=learning_rate)\n",
        "criterion = nn.MSELoss()\n"
      ],
      "metadata": {
        "id": "Z7XPCtX1mzha"
      },
      "execution_count": 31,
      "outputs": []
    },
    {
      "cell_type": "code",
      "source": [
        "#Training the model\n",
        "\n"
      ],
      "metadata": {
        "id": "nNbazQ1mm2Fe"
      },
      "execution_count": null,
      "outputs": []
    }
  ]
}